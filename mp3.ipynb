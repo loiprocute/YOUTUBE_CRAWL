{
 "cells": [
  {
   "cell_type": "code",
   "execution_count": 1,
   "metadata": {},
   "outputs": [],
   "source": [
    "import youtube_dl\n",
    "import pandas as pd"
   ]
  },
  {
   "cell_type": "code",
   "execution_count": 2,
   "metadata": {},
   "outputs": [],
   "source": [
    "\n",
    "def download_ytvid_as_wav(id,index,outdir):\n",
    "    video_url = \"https://www.youtube.com/watch?v=%s\"%id\n",
    "    video_info = youtube_dl.YoutubeDL().extract_info(url = video_url,download=False)\n",
    "    name=\"text_%s\"%str(index)\n",
    "    filename = f\"{name}.wav\"\n",
    "    options={\n",
    "        'format':'bestaudio/best',\n",
    "        'keepvideo':False,\n",
    "        'outtmpl':outdir+filename,\n",
    "    }\n",
    "    with youtube_dl.YoutubeDL(options) as ydl:\n",
    "        ydl.download([video_info['webpage_url']])\n",
    "    print(\"Download complete... {}\".format(filename))"
   ]
  },
  {
   "cell_type": "code",
   "execution_count": 4,
   "metadata": {},
   "outputs": [
    {
     "name": "stdout",
     "output_type": "stream",
     "text": [
      "13\n",
      "processing : 13 : KÃ½ sá»± du lá»ch PhÃº YÃªn: Ká»³ láº¡ trÃ¡i Äá»? PhÃº YÃªn Travel Guide #1\n",
      "[youtube] 2jhTkzKipOs: Downloading webpage\n",
      "[youtube] 2jhTkzKipOs: Downloading webpage\n",
      "[download] Destination: audio\\text_13.wav\n",
      "[download] 100% of 34.86MiB in 08:25                    \n",
      "Download complete... text_13.wav\n",
      ".....................sucessful ..................\n",
      "processing : 14 : 99% DU KHÃCH ÄÃ£ bá» qua nhá»¯ng nÆ¡i nÃ y |Du lá»ch áº©m thá»±c Huáº¿ #7\n",
      "[youtube] s5zMwZ1UNoM: Downloading webpage\n",
      "[youtube] s5zMwZ1UNoM: Downloading webpage\n",
      "[download] Destination: audio\\text_14.wav\n",
      "[download] 100% of 30.97MiB in 11:49                    \n",
      "Download complete... text_14.wav\n",
      ".....................sucessful ..................\n",
      "processing : 15 : ÄN \"CHÃ HEO QUAY\" Äáº·c sáº£n |Du lá»ch & áº©m thá»±c Huáº¿ #6\n",
      "[youtube] RIS23gB1bxY: Downloading webpage\n",
      "[youtube] RIS23gB1bxY: Downloading webpage\n",
      "[download] Destination: audio\\text_15.wav\n",
      "[download] 100% of 30.97MiB in 10:51                    \n"
     ]
    },
    {
     "name": "stderr",
     "output_type": "stream",
     "text": [
      "WARNING: RIS23gB1bxY: writing DASH m4a. Only some players support this container. Install ffmpeg or avconv to fix this automatically.\n"
     ]
    },
    {
     "name": "stdout",
     "output_type": "stream",
     "text": [
      "Download complete... text_15.wav\n",
      ".....................sucessful ..................\n",
      "processing : 16 : Bá»¯a Än no nÃª nÆ¡i quÃ¡n Än bÃ­ áº©n |Du lá»ch áº©m thá»±c Huáº¿ #5\n",
      "[youtube] ilznuulLEuY: Downloading webpage\n",
      "[youtube] ilznuulLEuY: Downloading webpage\n",
      "[download] Destination: audio\\text_16.wav\n",
      "[download] 100% of 28.00MiB in 09:32                    \n"
     ]
    },
    {
     "name": "stderr",
     "output_type": "stream",
     "text": [
      "WARNING: ilznuulLEuY: writing DASH m4a. Only some players support this container. Install ffmpeg or avconv to fix this automatically.\n"
     ]
    },
    {
     "name": "stdout",
     "output_type": "stream",
     "text": [
      "Download complete... text_16.wav\n",
      ".....................sucessful ..................\n",
      "processing : 17 : Äáº¶C Sáº¢N NGON NHÆ¯NG KHÃ TÃM |Du lá»ch áº©m thá»±c Huáº¿ #4\n",
      "[youtube] n2icxQPTcBk: Downloading webpage\n",
      "[youtube] n2icxQPTcBk: Downloading webpage\n",
      "[download] Destination: audio\\text_17.wav\n",
      "[download] 100% of 20.79MiB in 04:55                  \n",
      "Download complete... text_17.wav\n",
      ".....................sucessful ..................\n",
      "processing : 18 : Du lá»ch áº©m thá»±c Huáº¿ #3 |QUÃN ÄN 70 NÄM chá» bÃ¡n 2 tiáº¿ng má»i ngÃ y\n",
      "[youtube] 7M9VPpCmKmo: Downloading webpage\n",
      "[youtube] 7M9VPpCmKmo: Downloading webpage\n",
      "[download] Destination: audio\\text_18.wav\n",
      "[download] 100% of 27.42MiB in 09:40                    \n"
     ]
    },
    {
     "name": "stderr",
     "output_type": "stream",
     "text": [
      "WARNING: 7M9VPpCmKmo: writing DASH m4a. Only some players support this container. Install ffmpeg or avconv to fix this automatically.\n"
     ]
    },
    {
     "name": "stdout",
     "output_type": "stream",
     "text": [
      "Download complete... text_18.wav\n",
      ".....................sucessful ..................\n",
      "processing : 19 : Än BÃNH KHOÃI CÃ KÃNH, BÃNH ÃP Äáº·c sáº£n |Du lá»ch áº©m thá»±c Huáº¿ #2\n",
      "[youtube] QccWP64BStk: Downloading webpage\n",
      "[youtube] QccWP64BStk: Downloading webpage\n",
      "[download] Destination: audio\\text_19.wav\n",
      "[download] 100% of 34.30MiB in 10:55                    \n"
     ]
    },
    {
     "name": "stderr",
     "output_type": "stream",
     "text": [
      "WARNING: QccWP64BStk: writing DASH m4a. Only some players support this container. Install ffmpeg or avconv to fix this automatically.\n"
     ]
    },
    {
     "name": "stdout",
     "output_type": "stream",
     "text": [
      "Download complete... text_19.wav\n",
      ".....................sucessful ..................\n",
      "processing : 20 : Láº§n Äáº§u lÃ m BÃNH ÃT Bá»T HUYá»N. Láº  MÃ NGON |Du lá»ch Miá»n TÃ¢y\n",
      "[youtube] MCoqnoVau0g: Downloading webpage\n",
      "[youtube] MCoqnoVau0g: Downloading webpage\n",
      "[download] Destination: audio\\text_20.wav\n",
      "[download] 100% of 22.11MiB in 06:59                    \n",
      "Download complete... text_20.wav\n",
      ".....................sucessful ..................\n",
      "processing : 21 : Äáº·c sáº£n Cá»¦ Há»¦ KHÃM. Láº¡ mÃ  Än ngon bÃ¡ cháº¥y |Du lá»ch áº©m thá»±c\n",
      "[youtube] nv63S_mucFE: Downloading webpage\n",
      "[youtube] nv63S_mucFE: Downloading webpage\n",
      "[download] Destination: audio\\text_21.wav\n",
      "[download] 100% of 21.84MiB in 06:56                  \n",
      "Download complete... text_21.wav\n",
      ".....................sucessful ..................\n",
      "processing : 22 : Báº®T Háº¢I Sáº¢N á» rá»«ng báº§n lá»n nháº¥t Viá»t Nam |MÃ³n Än Äáº·c sáº£n Miá»n TÃ¢y\n",
      "[youtube] XVTQPrwrU8s: Downloading webpage\n",
      "[youtube] XVTQPrwrU8s: Downloading webpage\n",
      "[download] Destination: audio\\text_22.wav\n",
      "[download] 100% of 34.07MiB in 09:36                    \n"
     ]
    },
    {
     "name": "stderr",
     "output_type": "stream",
     "text": [
      "WARNING: XVTQPrwrU8s: writing DASH m4a. Only some players support this container. Install ffmpeg or avconv to fix this automatically.\n"
     ]
    },
    {
     "name": "stdout",
     "output_type": "stream",
     "text": [
      "Download complete... text_22.wav\n",
      ".....................sucessful ..................\n",
      "processing : 23 : ÄN NGON & Ráºº KHÃNG TÆ¯á»NG. Chá»£ ná»i Miá»n TÃ¢y |Du lá»ch áº©m thá»±c\n",
      "[youtube] 5QCsAh9Eays: Downloading webpage\n",
      "[youtube] 5QCsAh9Eays: Downloading webpage\n",
      "[download] Destination: audio\\text_23.wav\n",
      "[download] 100% of 23.30MiB in 09:15                    \n",
      "Download complete... text_23.wav\n",
      ".....................sucessful ..................\n",
      "processing : 24 : Äáº¶C Sáº¢N KON TUM Láº  QUÃ! Du lá»ch TÃ¢y NguyÃªn Viá»t Nam\n",
      "[youtube] 9YjhYj2g0gI: Downloading webpage\n",
      "[youtube] 9YjhYj2g0gI: Downloading webpage\n",
      "[download] Destination: audio\\text_24.wav\n",
      "[download] 100% of 40.02MiB in 18:59                    \n"
     ]
    },
    {
     "name": "stderr",
     "output_type": "stream",
     "text": [
      "WARNING: 9YjhYj2g0gI: writing DASH m4a. Only some players support this container. Install ffmpeg or avconv to fix this automatically.\n"
     ]
    },
    {
     "name": "stdout",
     "output_type": "stream",
     "text": [
      "Download complete... text_24.wav\n",
      ".....................sucessful ..................\n",
      "processing : 25 : Än á» nhÃ  hÃ ng 25 nÄm sao Michelin |Du lá»ch ChÃ¢u Ãu TÃ¢y Ban Nha\n",
      "[youtube] TrwPFTmWfiQ: Downloading webpage\n",
      "[youtube] TrwPFTmWfiQ: Downloading webpage\n",
      "[download] Destination: audio\\text_25.wav\n",
      "[download]   0.1% of 26.41MiB at 72.79KiB/s ETA 06:11   "
     ]
    },
    {
     "ename": "KeyboardInterrupt",
     "evalue": "",
     "output_type": "error",
     "traceback": [
      "\u001b[1;31m---------------------------------------------------------------------------\u001b[0m",
      "\u001b[1;31mKeyboardInterrupt\u001b[0m                         Traceback (most recent call last)",
      "\u001b[1;32mf:\\Documents\\intern\\selenium\\mp3.ipynb Cell 3'\u001b[0m in \u001b[0;36m<cell line: 8>\u001b[1;34m()\u001b[0m\n\u001b[0;32m     <a href='vscode-notebook-cell:/f%3A/Documents/intern/selenium/mp3.ipynb#ch0000002?line=11'>12</a>\u001b[0m     f\u001b[39m.\u001b[39mclose()\n\u001b[0;32m     <a href='vscode-notebook-cell:/f%3A/Documents/intern/selenium/mp3.ipynb#ch0000002?line=12'>13</a>\u001b[0m \u001b[39mtry\u001b[39;00m:\n\u001b[1;32m---> <a href='vscode-notebook-cell:/f%3A/Documents/intern/selenium/mp3.ipynb#ch0000002?line=13'>14</a>\u001b[0m     download_ytvid_as_wav(list_vid[count2],count2,\u001b[39m'\u001b[39;49m\u001b[39maudio/\u001b[39;49m\u001b[39m'\u001b[39;49m)\n\u001b[0;32m     <a href='vscode-notebook-cell:/f%3A/Documents/intern/selenium/mp3.ipynb#ch0000002?line=14'>15</a>\u001b[0m \u001b[39mexcept\u001b[39;00m(\u001b[39mException\u001b[39;00m,):\n\u001b[0;32m     <a href='vscode-notebook-cell:/f%3A/Documents/intern/selenium/mp3.ipynb#ch0000002?line=15'>16</a>\u001b[0m     \u001b[39mbreak\u001b[39;00m\n",
      "\u001b[1;32mf:\\Documents\\intern\\selenium\\mp3.ipynb Cell 2'\u001b[0m in \u001b[0;36mdownload_ytvid_as_wav\u001b[1;34m(id, index, outdir)\u001b[0m\n\u001b[0;32m      <a href='vscode-notebook-cell:/f%3A/Documents/intern/selenium/mp3.ipynb#ch0000001?line=5'>6</a>\u001b[0m options\u001b[39m=\u001b[39m{\n\u001b[0;32m      <a href='vscode-notebook-cell:/f%3A/Documents/intern/selenium/mp3.ipynb#ch0000001?line=6'>7</a>\u001b[0m     \u001b[39m'\u001b[39m\u001b[39mformat\u001b[39m\u001b[39m'\u001b[39m:\u001b[39m'\u001b[39m\u001b[39mbestaudio/best\u001b[39m\u001b[39m'\u001b[39m,\n\u001b[0;32m      <a href='vscode-notebook-cell:/f%3A/Documents/intern/selenium/mp3.ipynb#ch0000001?line=7'>8</a>\u001b[0m     \u001b[39m'\u001b[39m\u001b[39mkeepvideo\u001b[39m\u001b[39m'\u001b[39m:\u001b[39mFalse\u001b[39;00m,\n\u001b[0;32m      <a href='vscode-notebook-cell:/f%3A/Documents/intern/selenium/mp3.ipynb#ch0000001?line=8'>9</a>\u001b[0m     \u001b[39m'\u001b[39m\u001b[39mouttmpl\u001b[39m\u001b[39m'\u001b[39m:outdir\u001b[39m+\u001b[39mfilename,\n\u001b[0;32m     <a href='vscode-notebook-cell:/f%3A/Documents/intern/selenium/mp3.ipynb#ch0000001?line=9'>10</a>\u001b[0m }\n\u001b[0;32m     <a href='vscode-notebook-cell:/f%3A/Documents/intern/selenium/mp3.ipynb#ch0000001?line=10'>11</a>\u001b[0m \u001b[39mwith\u001b[39;00m youtube_dl\u001b[39m.\u001b[39mYoutubeDL(options) \u001b[39mas\u001b[39;00m ydl:\n\u001b[1;32m---> <a href='vscode-notebook-cell:/f%3A/Documents/intern/selenium/mp3.ipynb#ch0000001?line=11'>12</a>\u001b[0m     ydl\u001b[39m.\u001b[39;49mdownload([video_info[\u001b[39m'\u001b[39;49m\u001b[39mwebpage_url\u001b[39;49m\u001b[39m'\u001b[39;49m]])\n\u001b[0;32m     <a href='vscode-notebook-cell:/f%3A/Documents/intern/selenium/mp3.ipynb#ch0000001?line=12'>13</a>\u001b[0m \u001b[39mprint\u001b[39m(\u001b[39m\"\u001b[39m\u001b[39mDownload complete... \u001b[39m\u001b[39m{}\u001b[39;00m\u001b[39m\"\u001b[39m\u001b[39m.\u001b[39mformat(filename))\n",
      "File \u001b[1;32m~\\AppData\\Roaming\\Python\\Python38\\site-packages\\youtube_dl\\YoutubeDL.py:2068\u001b[0m, in \u001b[0;36mYoutubeDL.download\u001b[1;34m(self, url_list)\u001b[0m\n\u001b[0;32m   2065\u001b[0m \u001b[39mfor\u001b[39;00m url \u001b[39min\u001b[39;00m url_list:\n\u001b[0;32m   2066\u001b[0m     \u001b[39mtry\u001b[39;00m:\n\u001b[0;32m   2067\u001b[0m         \u001b[39m# It also downloads the videos\u001b[39;00m\n\u001b[1;32m-> 2068\u001b[0m         res \u001b[39m=\u001b[39m \u001b[39mself\u001b[39;49m\u001b[39m.\u001b[39;49mextract_info(\n\u001b[0;32m   2069\u001b[0m             url, force_generic_extractor\u001b[39m=\u001b[39;49m\u001b[39mself\u001b[39;49m\u001b[39m.\u001b[39;49mparams\u001b[39m.\u001b[39;49mget(\u001b[39m'\u001b[39;49m\u001b[39mforce_generic_extractor\u001b[39;49m\u001b[39m'\u001b[39;49m, \u001b[39mFalse\u001b[39;49;00m))\n\u001b[0;32m   2070\u001b[0m     \u001b[39mexcept\u001b[39;00m UnavailableVideoError:\n\u001b[0;32m   2071\u001b[0m         \u001b[39mself\u001b[39m\u001b[39m.\u001b[39mreport_error(\u001b[39m'\u001b[39m\u001b[39munable to download video\u001b[39m\u001b[39m'\u001b[39m)\n",
      "File \u001b[1;32m~\\AppData\\Roaming\\Python\\Python38\\site-packages\\youtube_dl\\YoutubeDL.py:808\u001b[0m, in \u001b[0;36mYoutubeDL.extract_info\u001b[1;34m(self, url, download, ie_key, extra_info, process, force_generic_extractor)\u001b[0m\n\u001b[0;32m    804\u001b[0m     \u001b[39mif\u001b[39;00m \u001b[39mnot\u001b[39;00m ie\u001b[39m.\u001b[39mworking():\n\u001b[0;32m    805\u001b[0m         \u001b[39mself\u001b[39m\u001b[39m.\u001b[39mreport_warning(\u001b[39m'\u001b[39m\u001b[39mThe program functionality for this site has been marked as broken, \u001b[39m\u001b[39m'\u001b[39m\n\u001b[0;32m    806\u001b[0m                             \u001b[39m'\u001b[39m\u001b[39mand will probably not work.\u001b[39m\u001b[39m'\u001b[39m)\n\u001b[1;32m--> 808\u001b[0m     \u001b[39mreturn\u001b[39;00m \u001b[39mself\u001b[39;49m\u001b[39m.\u001b[39;49m__extract_info(url, ie, download, extra_info, process)\n\u001b[0;32m    809\u001b[0m \u001b[39melse\u001b[39;00m:\n\u001b[0;32m    810\u001b[0m     \u001b[39mself\u001b[39m\u001b[39m.\u001b[39mreport_error(\u001b[39m'\u001b[39m\u001b[39mno suitable InfoExtractor for URL \u001b[39m\u001b[39m%s\u001b[39;00m\u001b[39m'\u001b[39m \u001b[39m%\u001b[39m url)\n",
      "File \u001b[1;32m~\\AppData\\Roaming\\Python\\Python38\\site-packages\\youtube_dl\\YoutubeDL.py:815\u001b[0m, in \u001b[0;36mYoutubeDL.__handle_extraction_exceptions.<locals>.wrapper\u001b[1;34m(self, *args, **kwargs)\u001b[0m\n\u001b[0;32m    813\u001b[0m \u001b[39mdef\u001b[39;00m \u001b[39mwrapper\u001b[39m(\u001b[39mself\u001b[39m, \u001b[39m*\u001b[39margs, \u001b[39m*\u001b[39m\u001b[39m*\u001b[39mkwargs):\n\u001b[0;32m    814\u001b[0m     \u001b[39mtry\u001b[39;00m:\n\u001b[1;32m--> 815\u001b[0m         \u001b[39mreturn\u001b[39;00m func(\u001b[39mself\u001b[39;49m, \u001b[39m*\u001b[39;49margs, \u001b[39m*\u001b[39;49m\u001b[39m*\u001b[39;49mkwargs)\n\u001b[0;32m    816\u001b[0m     \u001b[39mexcept\u001b[39;00m GeoRestrictedError \u001b[39mas\u001b[39;00m e:\n\u001b[0;32m    817\u001b[0m         msg \u001b[39m=\u001b[39m e\u001b[39m.\u001b[39mmsg\n",
      "File \u001b[1;32m~\\AppData\\Roaming\\Python\\Python38\\site-packages\\youtube_dl\\YoutubeDL.py:847\u001b[0m, in \u001b[0;36mYoutubeDL.__extract_info\u001b[1;34m(self, url, ie, download, extra_info, process)\u001b[0m\n\u001b[0;32m    845\u001b[0m \u001b[39mself\u001b[39m\u001b[39m.\u001b[39madd_default_extra_info(ie_result, ie, url)\n\u001b[0;32m    846\u001b[0m \u001b[39mif\u001b[39;00m process:\n\u001b[1;32m--> 847\u001b[0m     \u001b[39mreturn\u001b[39;00m \u001b[39mself\u001b[39;49m\u001b[39m.\u001b[39;49mprocess_ie_result(ie_result, download, extra_info)\n\u001b[0;32m    848\u001b[0m \u001b[39melse\u001b[39;00m:\n\u001b[0;32m    849\u001b[0m     \u001b[39mreturn\u001b[39;00m ie_result\n",
      "File \u001b[1;32m~\\AppData\\Roaming\\Python\\Python38\\site-packages\\youtube_dl\\YoutubeDL.py:881\u001b[0m, in \u001b[0;36mYoutubeDL.process_ie_result\u001b[1;34m(self, ie_result, download, extra_info)\u001b[0m\n\u001b[0;32m    879\u001b[0m \u001b[39mif\u001b[39;00m result_type \u001b[39m==\u001b[39m \u001b[39m'\u001b[39m\u001b[39mvideo\u001b[39m\u001b[39m'\u001b[39m:\n\u001b[0;32m    880\u001b[0m     \u001b[39mself\u001b[39m\u001b[39m.\u001b[39madd_extra_info(ie_result, extra_info)\n\u001b[1;32m--> 881\u001b[0m     \u001b[39mreturn\u001b[39;00m \u001b[39mself\u001b[39;49m\u001b[39m.\u001b[39;49mprocess_video_result(ie_result, download\u001b[39m=\u001b[39;49mdownload)\n\u001b[0;32m    882\u001b[0m \u001b[39melif\u001b[39;00m result_type \u001b[39m==\u001b[39m \u001b[39m'\u001b[39m\u001b[39murl\u001b[39m\u001b[39m'\u001b[39m:\n\u001b[0;32m    883\u001b[0m     \u001b[39m# We have to add extra_info to the results because it may be\u001b[39;00m\n\u001b[0;32m    884\u001b[0m     \u001b[39m# contained in a playlist\u001b[39;00m\n\u001b[0;32m    885\u001b[0m     \u001b[39mreturn\u001b[39;00m \u001b[39mself\u001b[39m\u001b[39m.\u001b[39mextract_info(ie_result[\u001b[39m'\u001b[39m\u001b[39murl\u001b[39m\u001b[39m'\u001b[39m],\n\u001b[0;32m    886\u001b[0m                              download,\n\u001b[0;32m    887\u001b[0m                              ie_key\u001b[39m=\u001b[39mie_result\u001b[39m.\u001b[39mget(\u001b[39m'\u001b[39m\u001b[39mie_key\u001b[39m\u001b[39m'\u001b[39m),\n\u001b[0;32m    888\u001b[0m                              extra_info\u001b[39m=\u001b[39mextra_info)\n",
      "File \u001b[1;32m~\\AppData\\Roaming\\Python\\Python38\\site-packages\\youtube_dl\\YoutubeDL.py:1692\u001b[0m, in \u001b[0;36mYoutubeDL.process_video_result\u001b[1;34m(self, info_dict, download)\u001b[0m\n\u001b[0;32m   1690\u001b[0m         new_info \u001b[39m=\u001b[39m \u001b[39mdict\u001b[39m(info_dict)\n\u001b[0;32m   1691\u001b[0m         new_info\u001b[39m.\u001b[39mupdate(\u001b[39mformat\u001b[39m)\n\u001b[1;32m-> 1692\u001b[0m         \u001b[39mself\u001b[39;49m\u001b[39m.\u001b[39;49mprocess_info(new_info)\n\u001b[0;32m   1693\u001b[0m \u001b[39m# We update the info dict with the best quality format (backwards compatibility)\u001b[39;00m\n\u001b[0;32m   1694\u001b[0m info_dict\u001b[39m.\u001b[39mupdate(formats_to_download[\u001b[39m-\u001b[39m\u001b[39m1\u001b[39m])\n",
      "File \u001b[1;32m~\\AppData\\Roaming\\Python\\Python38\\site-packages\\youtube_dl\\YoutubeDL.py:1976\u001b[0m, in \u001b[0;36mYoutubeDL.process_info\u001b[1;34m(self, info_dict)\u001b[0m\n\u001b[0;32m   1973\u001b[0m             info_dict[\u001b[39m'\u001b[39m\u001b[39m__files_to_merge\u001b[39m\u001b[39m'\u001b[39m] \u001b[39m=\u001b[39m downloaded\n\u001b[0;32m   1974\u001b[0m     \u001b[39melse\u001b[39;00m:\n\u001b[0;32m   1975\u001b[0m         \u001b[39m# Just a single file\u001b[39;00m\n\u001b[1;32m-> 1976\u001b[0m         success \u001b[39m=\u001b[39m dl(filename, info_dict)\n\u001b[0;32m   1977\u001b[0m \u001b[39mexcept\u001b[39;00m (compat_urllib_error\u001b[39m.\u001b[39mURLError, compat_http_client\u001b[39m.\u001b[39mHTTPException, socket\u001b[39m.\u001b[39merror) \u001b[39mas\u001b[39;00m err:\n\u001b[0;32m   1978\u001b[0m     \u001b[39mself\u001b[39m\u001b[39m.\u001b[39mreport_error(\u001b[39m'\u001b[39m\u001b[39munable to download video data: \u001b[39m\u001b[39m%s\u001b[39;00m\u001b[39m'\u001b[39m \u001b[39m%\u001b[39m error_to_compat_str(err))\n",
      "File \u001b[1;32m~\\AppData\\Roaming\\Python\\Python38\\site-packages\\youtube_dl\\YoutubeDL.py:1915\u001b[0m, in \u001b[0;36mYoutubeDL.process_info.<locals>.dl\u001b[1;34m(name, info)\u001b[0m\n\u001b[0;32m   1913\u001b[0m \u001b[39mif\u001b[39;00m \u001b[39mself\u001b[39m\u001b[39m.\u001b[39mparams\u001b[39m.\u001b[39mget(\u001b[39m'\u001b[39m\u001b[39mverbose\u001b[39m\u001b[39m'\u001b[39m):\n\u001b[0;32m   1914\u001b[0m     \u001b[39mself\u001b[39m\u001b[39m.\u001b[39mto_screen(\u001b[39m'\u001b[39m\u001b[39m[debug] Invoking downloader on \u001b[39m\u001b[39m%r\u001b[39;00m\u001b[39m'\u001b[39m \u001b[39m%\u001b[39m info\u001b[39m.\u001b[39mget(\u001b[39m'\u001b[39m\u001b[39murl\u001b[39m\u001b[39m'\u001b[39m))\n\u001b[1;32m-> 1915\u001b[0m \u001b[39mreturn\u001b[39;00m fd\u001b[39m.\u001b[39;49mdownload(name, info)\n",
      "File \u001b[1;32m~\\AppData\\Roaming\\Python\\Python38\\site-packages\\youtube_dl\\downloader\\common.py:366\u001b[0m, in \u001b[0;36mFileDownloader.download\u001b[1;34m(self, filename, info_dict)\u001b[0m\n\u001b[0;32m    360\u001b[0m     \u001b[39mself\u001b[39m\u001b[39m.\u001b[39mto_screen(\n\u001b[0;32m    361\u001b[0m         \u001b[39m'\u001b[39m\u001b[39m[download] Sleeping \u001b[39m\u001b[39m%s\u001b[39;00m\u001b[39m seconds...\u001b[39m\u001b[39m'\u001b[39m \u001b[39m%\u001b[39m (\n\u001b[0;32m    362\u001b[0m             \u001b[39mint\u001b[39m(sleep_interval) \u001b[39mif\u001b[39;00m sleep_interval\u001b[39m.\u001b[39mis_integer()\n\u001b[0;32m    363\u001b[0m             \u001b[39melse\u001b[39;00m \u001b[39m'\u001b[39m\u001b[39m%.2f\u001b[39;00m\u001b[39m'\u001b[39m \u001b[39m%\u001b[39m sleep_interval))\n\u001b[0;32m    364\u001b[0m     time\u001b[39m.\u001b[39msleep(sleep_interval)\n\u001b[1;32m--> 366\u001b[0m \u001b[39mreturn\u001b[39;00m \u001b[39mself\u001b[39;49m\u001b[39m.\u001b[39;49mreal_download(filename, info_dict)\n",
      "File \u001b[1;32m~\\AppData\\Roaming\\Python\\Python38\\site-packages\\youtube_dl\\downloader\\http.py:352\u001b[0m, in \u001b[0;36mHttpFD.real_download\u001b[1;34m(self, filename, info_dict)\u001b[0m\n\u001b[0;32m    350\u001b[0m \u001b[39mtry\u001b[39;00m:\n\u001b[0;32m    351\u001b[0m     establish_connection()\n\u001b[1;32m--> 352\u001b[0m     \u001b[39mreturn\u001b[39;00m download()\n\u001b[0;32m    353\u001b[0m \u001b[39mexcept\u001b[39;00m RetryDownload \u001b[39mas\u001b[39;00m e:\n\u001b[0;32m    354\u001b[0m     count \u001b[39m+\u001b[39m\u001b[39m=\u001b[39m \u001b[39m1\u001b[39m\n",
      "File \u001b[1;32m~\\AppData\\Roaming\\Python\\Python38\\site-packages\\youtube_dl\\downloader\\http.py:238\u001b[0m, in \u001b[0;36mHttpFD.real_download.<locals>.download\u001b[1;34m()\u001b[0m\n\u001b[0;32m    235\u001b[0m \u001b[39mwhile\u001b[39;00m \u001b[39mTrue\u001b[39;00m:\n\u001b[0;32m    236\u001b[0m     \u001b[39mtry\u001b[39;00m:\n\u001b[0;32m    237\u001b[0m         \u001b[39m# Download and write\u001b[39;00m\n\u001b[1;32m--> 238\u001b[0m         data_block \u001b[39m=\u001b[39m ctx\u001b[39m.\u001b[39;49mdata\u001b[39m.\u001b[39;49mread(block_size \u001b[39mif\u001b[39;49;00m data_len \u001b[39mis\u001b[39;49;00m \u001b[39mNone\u001b[39;49;00m \u001b[39melse\u001b[39;49;00m \u001b[39mmin\u001b[39;49m(block_size, data_len \u001b[39m-\u001b[39;49m byte_counter))\n\u001b[0;32m    239\u001b[0m     \u001b[39m# socket.timeout is a subclass of socket.error but may not have\u001b[39;00m\n\u001b[0;32m    240\u001b[0m     \u001b[39m# errno set\u001b[39;00m\n\u001b[0;32m    241\u001b[0m     \u001b[39mexcept\u001b[39;00m socket\u001b[39m.\u001b[39mtimeout \u001b[39mas\u001b[39;00m e:\n",
      "File \u001b[1;32mc:\\Program Files\\Python38\\lib\\http\\client.py:454\u001b[0m, in \u001b[0;36mHTTPResponse.read\u001b[1;34m(self, amt)\u001b[0m\n\u001b[0;32m    451\u001b[0m \u001b[39mif\u001b[39;00m amt \u001b[39mis\u001b[39;00m \u001b[39mnot\u001b[39;00m \u001b[39mNone\u001b[39;00m:\n\u001b[0;32m    452\u001b[0m     \u001b[39m# Amount is given, implement using readinto\u001b[39;00m\n\u001b[0;32m    453\u001b[0m     b \u001b[39m=\u001b[39m \u001b[39mbytearray\u001b[39m(amt)\n\u001b[1;32m--> 454\u001b[0m     n \u001b[39m=\u001b[39m \u001b[39mself\u001b[39;49m\u001b[39m.\u001b[39;49mreadinto(b)\n\u001b[0;32m    455\u001b[0m     \u001b[39mreturn\u001b[39;00m \u001b[39mmemoryview\u001b[39m(b)[:n]\u001b[39m.\u001b[39mtobytes()\n\u001b[0;32m    456\u001b[0m \u001b[39melse\u001b[39;00m:\n\u001b[0;32m    457\u001b[0m     \u001b[39m# Amount is not given (unbounded read) so we must check self.length\u001b[39;00m\n\u001b[0;32m    458\u001b[0m     \u001b[39m# and self.chunked\u001b[39;00m\n",
      "File \u001b[1;32mc:\\Program Files\\Python38\\lib\\http\\client.py:498\u001b[0m, in \u001b[0;36mHTTPResponse.readinto\u001b[1;34m(self, b)\u001b[0m\n\u001b[0;32m    493\u001b[0m         b \u001b[39m=\u001b[39m \u001b[39mmemoryview\u001b[39m(b)[\u001b[39m0\u001b[39m:\u001b[39mself\u001b[39m\u001b[39m.\u001b[39mlength]\n\u001b[0;32m    495\u001b[0m \u001b[39m# we do not use _safe_read() here because this may be a .will_close\u001b[39;00m\n\u001b[0;32m    496\u001b[0m \u001b[39m# connection, and the user is reading more bytes than will be provided\u001b[39;00m\n\u001b[0;32m    497\u001b[0m \u001b[39m# (for example, reading in 1k chunks)\u001b[39;00m\n\u001b[1;32m--> 498\u001b[0m n \u001b[39m=\u001b[39m \u001b[39mself\u001b[39;49m\u001b[39m.\u001b[39;49mfp\u001b[39m.\u001b[39;49mreadinto(b)\n\u001b[0;32m    499\u001b[0m \u001b[39mif\u001b[39;00m \u001b[39mnot\u001b[39;00m n \u001b[39mand\u001b[39;00m b:\n\u001b[0;32m    500\u001b[0m     \u001b[39m# Ideally, we would raise IncompleteRead if the content-length\u001b[39;00m\n\u001b[0;32m    501\u001b[0m     \u001b[39m# wasn't satisfied, but it might break compatibility.\u001b[39;00m\n\u001b[0;32m    502\u001b[0m     \u001b[39mself\u001b[39m\u001b[39m.\u001b[39m_close_conn()\n",
      "File \u001b[1;32mc:\\Program Files\\Python38\\lib\\socket.py:669\u001b[0m, in \u001b[0;36mSocketIO.readinto\u001b[1;34m(self, b)\u001b[0m\n\u001b[0;32m    667\u001b[0m \u001b[39mwhile\u001b[39;00m \u001b[39mTrue\u001b[39;00m:\n\u001b[0;32m    668\u001b[0m     \u001b[39mtry\u001b[39;00m:\n\u001b[1;32m--> 669\u001b[0m         \u001b[39mreturn\u001b[39;00m \u001b[39mself\u001b[39;49m\u001b[39m.\u001b[39;49m_sock\u001b[39m.\u001b[39;49mrecv_into(b)\n\u001b[0;32m    670\u001b[0m     \u001b[39mexcept\u001b[39;00m timeout:\n\u001b[0;32m    671\u001b[0m         \u001b[39mself\u001b[39m\u001b[39m.\u001b[39m_timeout_occurred \u001b[39m=\u001b[39m \u001b[39mTrue\u001b[39;00m\n",
      "File \u001b[1;32mc:\\Program Files\\Python38\\lib\\ssl.py:1241\u001b[0m, in \u001b[0;36mSSLSocket.recv_into\u001b[1;34m(self, buffer, nbytes, flags)\u001b[0m\n\u001b[0;32m   1237\u001b[0m     \u001b[39mif\u001b[39;00m flags \u001b[39m!=\u001b[39m \u001b[39m0\u001b[39m:\n\u001b[0;32m   1238\u001b[0m         \u001b[39mraise\u001b[39;00m \u001b[39mValueError\u001b[39;00m(\n\u001b[0;32m   1239\u001b[0m           \u001b[39m\"\u001b[39m\u001b[39mnon-zero flags not allowed in calls to recv_into() on \u001b[39m\u001b[39m%s\u001b[39;00m\u001b[39m\"\u001b[39m \u001b[39m%\u001b[39m\n\u001b[0;32m   1240\u001b[0m           \u001b[39mself\u001b[39m\u001b[39m.\u001b[39m\u001b[39m__class__\u001b[39m)\n\u001b[1;32m-> 1241\u001b[0m     \u001b[39mreturn\u001b[39;00m \u001b[39mself\u001b[39;49m\u001b[39m.\u001b[39;49mread(nbytes, buffer)\n\u001b[0;32m   1242\u001b[0m \u001b[39melse\u001b[39;00m:\n\u001b[0;32m   1243\u001b[0m     \u001b[39mreturn\u001b[39;00m \u001b[39msuper\u001b[39m()\u001b[39m.\u001b[39mrecv_into(buffer, nbytes, flags)\n",
      "File \u001b[1;32mc:\\Program Files\\Python38\\lib\\ssl.py:1099\u001b[0m, in \u001b[0;36mSSLSocket.read\u001b[1;34m(self, len, buffer)\u001b[0m\n\u001b[0;32m   1097\u001b[0m \u001b[39mtry\u001b[39;00m:\n\u001b[0;32m   1098\u001b[0m     \u001b[39mif\u001b[39;00m buffer \u001b[39mis\u001b[39;00m \u001b[39mnot\u001b[39;00m \u001b[39mNone\u001b[39;00m:\n\u001b[1;32m-> 1099\u001b[0m         \u001b[39mreturn\u001b[39;00m \u001b[39mself\u001b[39;49m\u001b[39m.\u001b[39;49m_sslobj\u001b[39m.\u001b[39;49mread(\u001b[39mlen\u001b[39;49m, buffer)\n\u001b[0;32m   1100\u001b[0m     \u001b[39melse\u001b[39;00m:\n\u001b[0;32m   1101\u001b[0m         \u001b[39mreturn\u001b[39;00m \u001b[39mself\u001b[39m\u001b[39m.\u001b[39m_sslobj\u001b[39m.\u001b[39mread(\u001b[39mlen\u001b[39m)\n",
      "\u001b[1;31mKeyboardInterrupt\u001b[0m: "
     ]
    }
   ],
   "source": [
    "filter=pd.read_csv(\"index.csv\",encoding = 'unicode_escape')\n",
    "list_vid=filter['id']\n",
    "name_vid=filter['Title']\n",
    "with open('counter2.txt','r') as f:\n",
    "    count2=int(f.read())\n",
    "    f.close()\n",
    "print(count2)\n",
    "while count2 < len(list_vid):\n",
    "    print(\"processing : %s : %s\"%(str(count2),name_vid[count2]))    \n",
    "    with open('counter2.txt','w') as f:\n",
    "        f.write(str(count2))\n",
    "        f.close()\n",
    "    try:\n",
    "        download_ytvid_as_wav(list_vid[count2],count2,'audio/')\n",
    "    except(Exception,):\n",
    "        break\n",
    "    count2+=1\n",
    "    print('.....................sucessful ..................')\n",
    "    "
   ]
  }
 ],
 "metadata": {
  "kernelspec": {
   "display_name": "Python 3.8.3 64-bit",
   "language": "python",
   "name": "python3"
  },
  "language_info": {
   "codemirror_mode": {
    "name": "ipython",
    "version": 3
   },
   "file_extension": ".py",
   "mimetype": "text/x-python",
   "name": "python",
   "nbconvert_exporter": "python",
   "pygments_lexer": "ipython3",
   "version": "3.8.3"
  },
  "orig_nbformat": 4,
  "vscode": {
   "interpreter": {
    "hash": "570feb405e2e27c949193ac68f46852414290d515b0ba6e5d90d076ed2284471"
   }
  }
 },
 "nbformat": 4,
 "nbformat_minor": 2
}
